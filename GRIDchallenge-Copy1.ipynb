
  {
   "cell_type": "code",
   "execution_count": 2,
   "metadata": {},
   "outputs": [],
   "source": [
    "class NeighboringNodes:\n",
    "    \n",
    "    def __init__(self, size, debug):\n",
    "        self.size = size\n",
    "        self.debug = debug\n",
    "    \n",
    "    def make_grid(self):\n",
    "        \n",
    "        '''Method for making and debugging a grid of NeighboringNodes.'''\n",
    "        \n",
    "        if type(self.size) is not int or self.size <= 0:\n",
    "            raise ValueError(\"Size must be a positive integer.\")\n",
    "            \n",
    "        else:\n",
    "            j = []\n",
    "            h = (self.size*[0])\n",
    "\n",
    "            for k in range(0,self.size):\n",
    "                (j.append(h))\n",
    "            print (j)\n",
    "            \n",
    "            #debug\n",
    "            if self.debug == True: \n",
    "                row = 0\n",
    "                col = 0\n",
    "                for c,g in enumerate(range(0, self.size**2),0):\n",
    "                    if (c%self.size) == 0:\n",
    "                        row+= 1\n",
    "                        col = 0  \n",
    "                    x = col\n",
    "                    y = self.size-row\n",
    "                    i = c\n",
    "                    \n",
    "                    print((x,y,i))\n",
    "                    col+=1\n",
    "\n",
    "            \n",
    "    def get_coordinates (self,index):\n",
    "        \n",
    "        '''Method for getting node coordinates based on index in a grid of NeighboringNodes.'''\n",
    "        \n",
    "        if type(self.size) is not int or self.size <= 0:\n",
    "            raise ValueError(\"Size must be a positive integer.\")\n",
    "            \n",
    "        else:\n",
    "            y = self.size -1 - index//self.size\n",
    "            x = index%self.size\n",
    "            return ([x,y])\n",
    "    \n",
    "\n",
    "    \n",
    "    def find_neighbors (self, radius, ttype, index=None,center=None):\n",
    "        \n",
    "        '''Method for finding neighboring nodes based on radius, shape of neighborhood, and center node index or coordinates.'''\n",
    "        \n",
    "        Valid_Type = {'square','cross','diamond'}\n",
    "        \n",
    "        if center and index:\n",
    "            raise ValueError(\"Use default value for index or center.\")\n",
    "            \n",
    "        elif not center and not index:\n",
    "            raise ValueError (\"Assign non-zero value to index or center.\")\n",
    "        \n",
    "        elif type(self.size) is not int or self.size <= 0:\n",
    "            raise ValueError(\"Size must be a positive integer.\")\n",
    "        \n",
    "        elif ttype not in Valid_Type:\n",
    "            raise ValueError(\"ttype must be one of %r.\" % Valid_Type)          \n",
    "                \n",
    "        elif type(radius) is not int or radius < 0 or radius > self.size/2:\n",
    "            raise ValueError('Radius must be a positive integer less than or equal to half of the NeighboringNode size.')\n",
    "            \n",
    "        \n",
    "        #Find neighbors\n",
    "        \n",
    "        if index:\n",
    "        \n",
    "            center = nodi.get_coordinates(index)\n",
    "        \n",
    "        if ttype == 'square':\n",
    "\n",
    "            row = center[1]\n",
    "            col = center[0]\n",
    "            ys =[]\n",
    "            \n",
    "                            \n",
    "            #Each line of the square will have the same sequence of x values\n",
    "            exes = (radius*2+1)*(list(range(col-radius,col+1+radius)))\n",
    "                \n",
    "            #Each line of the square will have the same y value\n",
    "            for g in range(0, 2*radius+1):\n",
    "                    \n",
    "                ycoordinates = (2*radius+1)*[row]\n",
    "                ys.extend(ycoordinates)\n",
    "                row-=1\n",
    "            \n",
    "            #Quick check to make sure shape is not off-grid.\n",
    "            if center[0]+radius < self.size and center[1]+radius < self.size and center[0]-radius > 0 and center[1]-radius > 0:\n",
    "\n",
    "                #Pair up the x and y coordinates\n",
    "                coordinates = [[i,j] for (i,j) in zip(exes,ys)]\n",
    "                \n",
    "            else:\n",
    "                print ('Shape is partially or entirely off the grid.')\n",
    "                \n",
    "                #Pair up the x and y coordinates\n",
    "                #If shape is off-grid, only return nodes that are not off-grid.\n",
    "                coordinates = [[i,j] for (i,j) in zip(exes,ys) if i < self.size and j < self.size and i > 0 and j > 0 ]\n",
    "                \n",
    "            return coordinates\n",
    "\n",
    "            \n",
    "        if ttype == 'cross':\n",
    "            \n",
    "            row = center[1]\n",
    "            col = center[0] \n",
    "            \n",
    "            \n",
    "            #The vertical line coordinates will have a range of y values and only one x value\n",
    "            verty = list(range(row-radius, row+1+radius))\n",
    "            n = len(verty)\n",
    "            vertx = n*[col]\n",
    "                \n",
    "            #The horizontal line coordinates will have a range of x values and only one y value\n",
    "            #Don't repeat center coordinates\n",
    "            horix = list(range(col-radius, col+1+radius))\n",
    "            horiy = n*[row]\n",
    "            \n",
    "            #Quick check to make sure shape is not off-grid.\n",
    "            if center[0]+radius < self.size and center[1]+radius < self.size and center[0]-radius > 0 and center[1]-radius > 0:\n",
    "                            \n",
    "                #Pair up the x and y coordinates and add the vertical and horizontal lines\n",
    "                coordinates = [[i,j]  for (i,j) in zip(vertx,verty)] + [[i,j]  for (i,j) in zip(horix, horiy)]\n",
    "\n",
    "                coordinates.remove(center)\n",
    "                \n",
    "            else:\n",
    "                \n",
    "                print ('Shape is partially or entirely off the grid.')\n",
    "            \n",
    "                #Pair up the x and y coordinates and add the vertical and horizontal lines.\n",
    "                #If shape is off-grid, only return nodes that are not off-grid.\n",
    "                coordinates = [[i,j]  for (i,j) in zip(vertx,verty) if i < self.size and j < self.size and i > 0 and j > 0] + [[i,j]  for (i,j) in zip(horix, horiy) if i < self.size and j < self.size and i > 0 and j > 0]\n",
    "\n",
    "                coordinates.remove(center)\n",
    "            \n",
    "            return coordinates\n",
    "        \n",
    "        if ttype == 'diamond':\n",
    "                \n",
    "                coordinates=[]\n",
    "                row = center[1]+radius\n",
    "                col = center[0]\n",
    "                \n",
    "                #Quick check to make sure shape is not off-the-grid\n",
    "                if center[0]+radius < self.size and center[1]+radius < self.size and center[0]-radius > 0 and center[1]-radius > 0:\n",
    "                    \n",
    "                    #Coordinates for top triangle\n",
    "                    for c,g in enumerate(range(0, (radius+1)),0):\n",
    "                        exes = list(range(col-c,col+1+c))\n",
    "                        ys = len(exes)*[row]\n",
    "                        coordinates.extend([[i,j] for (i,j) in zip(exes,ys)])\n",
    "                        row-=1\n",
    "                    \n",
    "                    #Coordinates for bottom triangle\n",
    "                    for h in range(0,radius):\n",
    "                        exes = list(range(col-(len(exes)//2-1) , col + len(exes)//2))\n",
    "                        ys = len(exes)*[row]\n",
    "                        coordinates.extend([[i,j] for (i,j) in zip(exes,ys)])\n",
    "                        row-=1\n",
    "                    \n",
    "                else:\n",
    "                    print('Shape is partially or entirely off the grid.')\n",
    "                    \n",
    "                    #Coordinates for top triangle\n",
    "                    #Remove nodes that are off-the-grid\n",
    "                    for c,g in enumerate(range(0, (radius+1)),0):\n",
    "                        exes = list(range(col-c,col+1+c))\n",
    "                        ys = len(exes)*[row]\n",
    "                        coordinates.extend([[i,j] for (i,j) in zip(exes,ys) if i < self.size and j < self.size and i > 0 and j > 0])\n",
    "                        row-=1\n",
    "                    \n",
    "                    #Coordinates for bottom triangle\n",
    "                    #Remove nodes that are off-the-grid\n",
    "                    for h in range(0,radius):\n",
    "                        exes = list(range(col-(len(exes)//2-1) , col + len(exes)//2))\n",
    "                        ys = len(exes)*[row]\n",
    "                        coordinates.extend([[i,j] for (i,j) in zip(exes,ys) if i < self.size and j < self.size and i > 0 and j > 0])\n",
    "                        row-=1\n",
    "                    \n",
    "                return coordinates\n"
   ]
  },
  {
   "cell_type": "code",
   "execution_count": 3,
   "metadata": {
    "scrolled": true
   },
   "outputs": [
    {
     "name": "stdout",
     "output_type": "stream",
     "text": [
      "[[0, 0, 0, 0, 0, 0, 0, 0], [0, 0, 0, 0, 0, 0, 0, 0], [0, 0, 0, 0, 0, 0, 0, 0], [0, 0, 0, 0, 0, 0, 0, 0], [0, 0, 0, 0, 0, 0, 0, 0], [0, 0, 0, 0, 0, 0, 0, 0], [0, 0, 0, 0, 0, 0, 0, 0], [0, 0, 0, 0, 0, 0, 0, 0]]\n"
     ]
    }
   ],
   "source": [
    "#Print grid (and node coordinates if debug is true)\n",
    "nodi = NeighboringNodes(8,False)\n",
    "nodi.make_grid()"
   ]
  },
  {
   "cell_type": "code",
   "execution_count": 4,
   "metadata": {
    "scrolled": true
   },
   "outputs": [
    {
     "data": {
      "text/plain": [
       "[1, 7]"
      ]
     },
     "execution_count": 4,
     "metadata": {},
     "output_type": "execute_result"
    }
   ],
   "source": [
    "#Get coordinates based on index\n",
    "nodi.get_coordinates (1)"
   ]
  },
  {
   "cell_type": "code",
   "execution_count": 5,
   "metadata": {},
   "outputs": [
    {
     "data": {
      "text/plain": [
       "[[4, 6],\n",
       " [3, 5],\n",
       " [4, 5],\n",
       " [5, 5],\n",
       " [2, 4],\n",
       " [3, 4],\n",
       " [4, 4],\n",
       " [5, 4],\n",
       " [6, 4],\n",
       " [3, 3],\n",
       " [4, 3],\n",
       " [5, 3],\n",
       " [4, 2]]"
      ]
     },
     "execution_count": 5,
     "metadata": {},
     "output_type": "execute_result"
    }
   ],
   "source": [
    "#Get coordinates of all on-grid nodes in a specific shape with a specific center and radius\n",
    "shape_xy = nodi.find_neighbors(2,'diamond', center = [4,4])\n",
    "shape_xy"
   ]
  },
  {
   "cell_type": "markdown",
   "metadata": {},
   "source": [
    "# Postgres database"
   ]
  },
  {
   "cell_type": "code",
   "execution_count": null,
   "metadata": {},
   "outputs": [],
   "source": [
    "CREATE TABLE locate_shape (\n",
    "    id INT,\n",
    " grid_dim INT,\n",
    " shape TEXT, \n",
    " radius INT,\n",
    " center_idx INT, \n",
    " center_x INT, \n",
    " center_y INT\n",
    ");"
   ]
  },
  {
   "cell_type": "code",
   "execution_count": null,
   "metadata": {},
   "outputs": [],
   "source": [
    "CREATE TABLE neighbors (\n",
    "    locate_shape_id INT,\n",
    "    x_col INT,\n",
    "    y_col INT,\n",
    "    off_grid BOOLEAN\n",
    " \n",
    ");"
   ]
  },
  {
   "cell_type": "code",
   "execution_count": null,
   "metadata": {},
   "outputs": [],
   "source": [
    "SELECT locate_shape.shape, neighbors.x_col, neighbors.y_col \n",
    "FROM locate_shape JOIN neighbors ON locate_shape.id = neighbors.locate_shape_id \n",
    "WHERE locate_shape.id = 111;"
   ]
  },
  {
   "cell_type": "code",
   "execution_count": null,
   "metadata": {},
   "outputs": [],
   "source": [
    "SELECT locate_shape.grid_dim, neighbors.off_grid \n",
    "FROM locate_shape JOIN neighbors ON locate_shape.id = neighbors.locate_shape_id \n",
    "WHERE locate_shape.grid_dim = 8;"
   ]
  }
 ],
 "metadata": {
  "kernelspec": {
   "display_name": "Python 3",
   "language": "python",
   "name": "python3"
  },
  "language_info": {
   "codemirror_mode": {
    "name": "ipython",
    "version": 3
   },
   "file_extension": ".py",
   "mimetype": "text/x-python",
   "name": "python",
   "nbconvert_exporter": "python",
   "pygments_lexer": "ipython3",
   "version": "3.7.2"
  }
 },
 "nbformat": 4,
 "nbformat_minor": 2
}
